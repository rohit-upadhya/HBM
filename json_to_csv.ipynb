{
 "cells": [
  {
   "cell_type": "code",
   "execution_count": 1,
   "id": "2b251b75",
   "metadata": {},
   "outputs": [],
   "source": [
    "import json\n",
    "import csv"
   ]
  },
  {
   "cell_type": "code",
   "execution_count": 2,
   "id": "69073e2a",
   "metadata": {},
   "outputs": [],
   "source": [
    "with open('train_neg.json') as json_file:\n",
    "    json_data = json.load(json_file)"
   ]
  },
  {
   "cell_type": "code",
   "execution_count": 4,
   "id": "7e22aa86",
   "metadata": {},
   "outputs": [
    {
     "name": "stdout",
     "output_type": "stream",
     "text": [
      "dict_keys(['text'])\n"
     ]
    }
   ],
   "source": [
    "\n",
    "# print(json_data['data'][0])\n",
    "\n",
    "keys = json_data['data'][0].keys()\n",
    "\n",
    "print(keys)"
   ]
  },
  {
   "cell_type": "code",
   "execution_count": 5,
   "id": "c0815f9f",
   "metadata": {},
   "outputs": [],
   "source": [
    "with open('ecthr_neg_text.csv', 'w+', newline='') as csv_file:\n",
    "    writer = csv.DictWriter(csv_file, fieldnames=keys)\n",
    "    writer.writeheader()\n",
    "    writer.writerows(json_data['data'])"
   ]
  },
  {
   "cell_type": "code",
   "execution_count": null,
   "id": "ed01a8f1",
   "metadata": {},
   "outputs": [],
   "source": []
  }
 ],
 "metadata": {
  "kernelspec": {
   "display_name": "Python 3 (ipykernel)",
   "language": "python",
   "name": "python3"
  },
  "language_info": {
   "codemirror_mode": {
    "name": "ipython",
    "version": 3
   },
   "file_extension": ".py",
   "mimetype": "text/x-python",
   "name": "python",
   "nbconvert_exporter": "python",
   "pygments_lexer": "ipython3",
   "version": "3.9.13"
  }
 },
 "nbformat": 4,
 "nbformat_minor": 5
}
